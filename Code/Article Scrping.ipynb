{
 "cells": [
  {
   "cell_type": "code",
   "execution_count": 1,
   "metadata": {},
   "outputs": [],
   "source": [
    "import requests\n",
    "from bs4 import BeautifulSoup\n",
    "from time import sleep\n",
    "import pandas as pd\n",
    "from tqdm import tqdm\n",
    "import random"
   ]
  },
  {
   "cell_type": "code",
   "execution_count": 2,
   "metadata": {},
   "outputs": [],
   "source": [
    "links = pd.read_csv(\"./Data/Articles Links.csv\")"
   ]
  },
  {
   "cell_type": "code",
   "execution_count": 3,
   "metadata": {},
   "outputs": [],
   "source": [
    "links = links.drop(\"Unnamed: 0\",axis=1)"
   ]
  },
  {
   "cell_type": "code",
   "execution_count": 13,
   "metadata": {},
   "outputs": [
    {
     "data": {
      "text/plain": [
       "(1018, 2)"
      ]
     },
     "execution_count": 13,
     "metadata": {},
     "output_type": "execute_result"
    }
   ],
   "source": [
    "links.shape"
   ]
  },
  {
   "attachments": {},
   "cell_type": "markdown",
   "metadata": {},
   "source": [
    "Scraping Articles"
   ]
  },
  {
   "cell_type": "code",
   "execution_count": 28,
   "metadata": {},
   "outputs": [],
   "source": [
    "headers = []\n",
    "authors = []\n",
    "sources = []\n",
    "published_dates = []\n",
    "articles_body = []\n",
    "urls = []\n",
    "sub_headings = []"
   ]
  },
  {
   "cell_type": "code",
   "execution_count": 80,
   "metadata": {},
   "outputs": [],
   "source": [
    "\n",
    "def scrape_article(soup,url):\n",
    "    header = soup.find(\"div\",{\"id\":\"block-mit-page-title\"}).find(\"span\")\n",
    "    if not header:\n",
    "        header = \"\"\n",
    "        headers.append(header)\n",
    "    else:\n",
    "        headers.append(header.get_text())\n",
    "\n",
    "    author = soup.find(\"span\",{\"class\":\"news-article--author\"})\n",
    "    if not author:\n",
    "        author = \"\"\n",
    "        authors.append(author)\n",
    "    else: \n",
    "        authors.append(author.get_text())\n",
    "\n",
    "    source = soup.find(\"span\",{\"class\":\"news-article--source\"})\n",
    "    if not source:\n",
    "        source = \"\"\n",
    "        sources.append(source)\n",
    "    else:\n",
    "        sources.append(source.get_text())\n",
    "        \n",
    "    publish_date = soup.find(\"div\",{\"class\":\"news-article--publication-date\"}).find(\"time\")\n",
    "    if not publish_date:\n",
    "        publish_date = \"\"\n",
    "        published_dates.append(publish_date)\n",
    "    else:\n",
    "        published_dates.append(publish_date.get_text())\n",
    "\n",
    "    article_body_tag = soup.find(\"div\",{\"class\":\"paragraph paragraph--type--content-block-text paragraph--view-mode--default\"})\n",
    "    if not article_body_tag:\n",
    "        article_body_tag = \"\"\n",
    "        articles_body.append(body)\n",
    "    else: \n",
    "        text_body = []\n",
    "        for text in article_body_tag.find_all(\"p\"):\n",
    "            body = text.get_text().strip()\n",
    "            text_body.append(body)\n",
    "        articles_body.append(text_body)\n",
    "\n",
    "    sub_heading = soup.find(\"div\",{\"class\":\"news-article--dek\"})\n",
    "    if not sub_heading:\n",
    "        sub_heading = \"\"\n",
    "        sub_headings.append(sub_heading)\n",
    "    else:\n",
    "        sub_headings.append(sub_heading.find(\"span\").get_text())\n",
    "\n",
    "    urls.append(url)\n"
   ]
  },
  {
   "cell_type": "code",
   "execution_count": null,
   "metadata": {},
   "outputs": [],
   "source": [
    "for index,url in enumerate(links[\"Link\"]):\n",
    "    response = requests.get(url)\n",
    "    status_code = response.status_code\n",
    "    if status_code == 200:\n",
    "        data = response.text\n",
    "        soup = BeautifulSoup(data, \"html.parser\")\n",
    "\n",
    "        # sleep(random.choice([0.3,0.5]))\n",
    "        \n",
    "        is_page_not_found = soup.find(\"body\")[\"class\"][0]\n",
    "        if is_page_not_found == \"page-not-found\":\n",
    "            continue\n",
    "        else:\n",
    "            scrape_article(soup,url)\n",
    "            print(index)\n",
    "        \n",
    "    \n",
    "    else:\n",
    "        print(\"Response Code:\",status_code)\n",
    "        print(\"Breakin Code....\")\n",
    "        break"
   ]
  },
  {
   "cell_type": "code",
   "execution_count": 87,
   "metadata": {},
   "outputs": [],
   "source": [
    "articles = pd.DataFrame({\"Published Date\":published_dates,\"Author\":authors,\"Source\":sources,\"Article Header\":headers,\"Sub_Headings\":sub_headings,\"Article Body\":articles_body,\"Url\":urls})"
   ]
  },
  {
   "cell_type": "code",
   "execution_count": 90,
   "metadata": {},
   "outputs": [
    {
     "name": "stdout",
     "output_type": "stream",
     "text": [
      "<class 'pandas.core.frame.DataFrame'>\n",
      "RangeIndex: 1018 entries, 0 to 1017\n",
      "Data columns (total 7 columns):\n",
      " #   Column          Non-Null Count  Dtype \n",
      "---  ------          --------------  ----- \n",
      " 0   Published Date  1018 non-null   object\n",
      " 1   Author          1018 non-null   object\n",
      " 2   Source          1018 non-null   object\n",
      " 3   Article Header  1018 non-null   object\n",
      " 4   Sub_Headings    1018 non-null   object\n",
      " 5   Article Body    1018 non-null   object\n",
      " 6   Url             1018 non-null   object\n",
      "dtypes: object(7)\n",
      "memory usage: 55.8+ KB\n"
     ]
    }
   ],
   "source": [
    "articles.info()"
   ]
  },
  {
   "cell_type": "code",
   "execution_count": 92,
   "metadata": {},
   "outputs": [],
   "source": [
    "articles.to_csv(\"./Data/Articles.csv\")"
   ]
  },
  {
   "cell_type": "code",
   "execution_count": null,
   "metadata": {},
   "outputs": [],
   "source": []
  }
 ],
 "metadata": {
  "kernelspec": {
   "display_name": "Python 3",
   "language": "python",
   "name": "python3"
  },
  "language_info": {
   "codemirror_mode": {
    "name": "ipython",
    "version": 3
   },
   "file_extension": ".py",
   "mimetype": "text/x-python",
   "name": "python",
   "nbconvert_exporter": "python",
   "pygments_lexer": "ipython3",
   "version": "3.10.2"
  },
  "orig_nbformat": 4
 },
 "nbformat": 4,
 "nbformat_minor": 2
}
